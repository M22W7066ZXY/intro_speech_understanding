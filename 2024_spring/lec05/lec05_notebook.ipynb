{
 "cells": [
  {
   "cell_type": "markdown",
   "id": "6a424b44",
   "metadata": {},
   "source": [
    "# Speech Understanding \n",
    "# Lecture 5: Numpy and Matplotlib\n"
   ]
  },
  {
   "cell_type": "markdown",
   "id": "b3983e7c",
   "metadata": {},
   "source": [
    "### Mark Hasegawa-Johnson, KCGI"
   ]
  },
  {
   "cell_type": "markdown",
   "id": "ffa13a99",
   "metadata": {},
   "source": [
    "Last time, we learned that python modules (pre-made, free code) are one of the main reasons python is so popular.\n",
    "\n",
    "One of the most useful modules are <a href=\"https://numpy.org/\">numpy</a>, which implements linear algebra.  Most of the math in machine learning is linear algebra, so numpy has become very popular.\n",
    "\n",
    "Another useful module is <a href=\"https://matplotlib.org/\">matplotlib</a>, which creates scientific graphs and visualizations."
   ]
  },
  {
   "cell_type": "markdown",
   "id": "a638dcac",
   "metadata": {},
   "source": [
    "1. [numpy: linear algebra](#section1)\n",
    "1. [numpy: array math](#section2)\n",
    "1. [numpy: special arrays](#section3)\n",
    "1. [matplotlib: Figure, add_subplot, and plot](#section4)\n",
    "1. [matplotlib: stem](#section5)\n",
    "1. [homework](#homework)"
   ]
  },
  {
   "cell_type": "markdown",
   "id": "d07dde63",
   "metadata": {},
   "source": [
    "<a id=\"section1\"></a>"
   ]
  },
  {
   "cell_type": "markdown",
   "id": "69daa20d",
   "metadata": {},
   "source": [
    "<a id=\"section4\"></a>"
   ]
  },
  {
   "cell_type": "markdown",
   "id": "1c5d4fcf",
   "metadata": {},
   "source": [
    "## 1 numpy: linear algebra\n",
    "\n",
    "Chances are, you already have numpy installed.  Test it by running the following code block.  If it fails, close this window, go to a terminal, type `pip install numpy`, then come back."
   ]
  },
  {
   "cell_type": "code",
   "execution_count": 1,
   "id": "287bdddc",
   "metadata": {},
   "outputs": [],
   "source": [
    "import numpy"
   ]
  },
  {
   "cell_type": "markdown",
   "id": "710ed6a1",
   "metadata": {},
   "source": [
    "By convention, we usually import numpy using the following syntax.  This syntax makes `np` an alias for `numpy`:"
   ]
  },
  {
   "cell_type": "code",
   "execution_count": 2,
   "id": "ebe265b3",
   "metadata": {},
   "outputs": [],
   "source": [
    "import numpy as np"
   ]
  },
  {
   "cell_type": "markdown",
   "id": "b9c78052",
   "metadata": {},
   "source": [
    "Numpy implements just one new data type, called an `array`.  You can convert a list into an array like this:"
   ]
  },
  {
   "cell_type": "code",
   "execution_count": 3,
   "id": "451a2e04-941d-48af-b280-051a2ee20c54",
   "metadata": {},
   "outputs": [
    {
     "ename": "IndentationError",
     "evalue": "unexpected indent (1712286056.py, line 2)",
     "output_type": "error",
     "traceback": [
      "\u001b[1;36m  Cell \u001b[1;32mIn[3], line 2\u001b[1;36m\u001b[0m\n\u001b[1;33m    print(sys.executable)\u001b[0m\n\u001b[1;37m    ^\u001b[0m\n\u001b[1;31mIndentationError\u001b[0m\u001b[1;31m:\u001b[0m unexpected indent\n"
     ]
    }
   ],
   "source": [
    "import sys\n",
    "    print(sys.executable)"
   ]
  },
  {
   "cell_type": "code",
   "execution_count": 4,
   "id": "53310080",
   "metadata": {},
   "outputs": [
    {
     "name": "stdout",
     "output_type": "stream",
     "text": [
      "[1 2 3 4 5]\n"
     ]
    }
   ],
   "source": [
    "\n",
    "x = np.array([1,2,3,4,5])\n",
    "print(x)"
   ]
  },
  {
   "cell_type": "code",
   "execution_count": 5,
   "id": "f3b85baf-2a15-4802-9298-d0c53b5fc859",
   "metadata": {},
   "outputs": [
    {
     "name": "stdout",
     "output_type": "stream",
     "text": [
      "[1 2 3 4 5]\n"
     ]
    }
   ],
   "source": [
    "\n",
    "x = np.array([1,2,3,4,5])\n",
    "print(x)"
   ]
  },
  {
   "cell_type": "markdown",
   "id": "f4726ff7",
   "metadata": {},
   "source": [
    "The main reason numpy is so popular is because of the huge variety of linear algebra functions it provides.  For example, suppose you have two vectors, $x$ and $y$, defined like this:\n",
    "\n",
    "$$x=\\left[\\begin{array}{c}x_1\\\\x_2\\\\x_3\\end{array}\\right]=\\left[\\begin{array}{c}0.1\\\\-4\\\\0.25\\end{array}\\right],~~~y=\\left[\\begin{array}{c}y_1\\\\y_2\\\\y_3\\end{array}\\right]=\\left[\\begin{array}{c}3\\\\0.2\\\\5\\end{array}\\right]$$\n",
    "\n",
    "Suppose you want to compute the dot product of these two vectors.  We write $z=x^Ty$, which means:\n",
    "\n",
    "$$z=x^Ty=\\sum_{i=1}^3 x_iy_i = 0.3-0.8+1.25=0.75$$\n",
    "\n",
    "In numpy, we compute this dot product by defining the vectors $x$ and $y$, then calling the function `np.dot`:"
   ]
  },
  {
   "cell_type": "code",
   "execution_count": 6,
   "id": "06fd7fee",
   "metadata": {},
   "outputs": [
    {
     "name": "stdout",
     "output_type": "stream",
     "text": [
      "0.75\n"
     ]
    }
   ],
   "source": [
    "x = np.array([0.1,-4,0.25])\n",
    "y = np.array([3,0.2,5])\n",
    "z = np.dot(x,y)\n",
    "print(z)"
   ]
  },
  {
   "cell_type": "markdown",
   "id": "0a1fe701",
   "metadata": {},
   "source": [
    "Suppose we want to multiply a matrix with a vector, like this:\n",
    "\n",
    "$$v=xW=[x_1,x_2,x_3]\\left[\\begin{array}{ccc}w_{1,1}&w_{1,2}&w_{1,3}\\\\w_{2,1}&w_{2,2}&w_{2,3}\\\\w_{3,1}&w_{3,2}&w_{3,3}\\end{array}\\right]$$\n",
    "\n",
    "This notation means that we are setting the vector $v$ to have the following content:\n",
    "\n",
    "$$v=\\left[\\sum_{i=1}^3x_iw_{i,1},~~~\\sum_{i=1}^3x_iw_{i,2},~~~\\sum_{i=1}^3x_iw_{i,3}\\right]$$\n",
    "\n",
    "For example, \n",
    "\n",
    "$$v=[0.1,-4,0.25]\\left[\\begin{array}{ccc}1&0&-1\\\\1&0&-1\\\\1&0&-1\\end{array}\\right]$$\n",
    "$$=[0.1-4+0.25,~~0+0+0,~~-0.1+4-0.25]$$\n",
    "$$=[-3.65,~~0,~~3.65]$$\n",
    "\n",
    "In numpy, a matrix is just a 2-D array, like this:"
   ]
  },
  {
   "cell_type": "code",
   "execution_count": 7,
   "id": "8432f348",
   "metadata": {},
   "outputs": [
    {
     "name": "stdout",
     "output_type": "stream",
     "text": [
      "[[ 1  0 -1]\n",
      " [ 1  0 -1]\n",
      " [ 1  0 -1]]\n"
     ]
    }
   ],
   "source": [
    "W = np.array([[1,0,-1],[1,0,-1],[1,0,-1]])\n",
    "print(W)"
   ]
  },
  {
   "cell_type": "markdown",
   "id": "f0ed4ca0",
   "metadata": {},
   "source": [
    "... and we can implement $v=xW$ by using the `np.matmul` (matrix multiplication) function:"
   ]
  },
  {
   "cell_type": "code",
   "execution_count": 8,
   "id": "2c6c704b",
   "metadata": {},
   "outputs": [
    {
     "name": "stdout",
     "output_type": "stream",
     "text": [
      "[-3.65  0.    3.65]\n"
     ]
    }
   ],
   "source": [
    "v = np.matmul(x,W)\n",
    "print(v)"
   ]
  },
  {
   "cell_type": "markdown",
   "id": "cf4489fc",
   "metadata": {},
   "source": [
    "Because they are so useful, the `np.dot` and `np.matmul` functions can be accessed using a shorthand symbol.  The `@` symbol, when used between two numpy arrays, means either `np.dot` or `np.matmul`, whichever is applicable:"
   ]
  },
  {
   "cell_type": "code",
   "execution_count": 9,
   "id": "fa2374b5",
   "metadata": {},
   "outputs": [
    {
     "data": {
      "text/plain": [
       "0.75"
      ]
     },
     "execution_count": 9,
     "metadata": {},
     "output_type": "execute_result"
    }
   ],
   "source": [
    "x @ y"
   ]
  },
  {
   "cell_type": "code",
   "execution_count": 10,
   "id": "ba308575",
   "metadata": {},
   "outputs": [
    {
     "data": {
      "text/plain": [
       "array([-3.65,  0.  ,  3.65])"
      ]
     },
     "execution_count": 10,
     "metadata": {},
     "output_type": "execute_result"
    }
   ],
   "source": [
    "x @ W"
   ]
  },
  {
   "cell_type": "markdown",
   "id": "cfd4fea5",
   "metadata": {},
   "source": [
    "<a id=\"section2\"></a>"
   ]
  },
  {
   "cell_type": "markdown",
   "id": "3158d57d",
   "metadata": {},
   "source": [
    "## 2. numpy: array math"
   ]
  },
  {
   "cell_type": "markdown",
   "id": "a8b201d7",
   "metadata": {},
   "source": [
    "In order to make numpy as useful as possible, many of the functions that you can find in the <a href=\"https://docs.python.org/3/library/math.html\">math</a> standard library are re-implemented in array form.  For example, suppose\n",
    "\n",
    "$$x=[0,1,2,3]$$\n",
    "\n",
    "Then \n",
    "\n",
    "$$x^2 = [0,1,4,9]$$\n",
    "\n",
    "and\n",
    "\n",
    "$$\\cos(\\pi x)=[\\cos(0),~~\\cos(\\pi),~~\\cos(2\\pi),~~\\cos(3\\pi)]=[1,-1,1,-1]$$\n",
    "\n",
    "These can be implemented in numpy like this:"
   ]
  },
  {
   "cell_type": "code",
   "execution_count": 11,
   "id": "e32a47d3",
   "metadata": {},
   "outputs": [
    {
     "name": "stdout",
     "output_type": "stream",
     "text": [
      "[0 1 4 9]\n",
      "[ 1. -1.  1. -1.]\n",
      "[ 0.0000000e+00  1.0000000e+00  1.2246468e-16 -1.0000000e+00]\n"
     ]
    }
   ],
   "source": [
    "x = np.array([0,1,2,3])\n",
    "print(x**2)\n",
    "print(np.cos(np.pi*x))\n",
    "print(np.sin(np.pi*x/2))"
   ]
  },
  {
   "cell_type": "markdown",
   "id": "4ac782b0",
   "metadata": {},
   "source": [
    "<a id=\"section3\"></a>"
   ]
  },
  {
   "cell_type": "markdown",
   "id": "6b99e4aa",
   "metadata": {},
   "source": [
    "## 3. numpy: special arrays"
   ]
  },
  {
   "cell_type": "markdown",
   "id": "86ca2449",
   "metadata": {},
   "source": [
    "Finally, there are a number of special \"array constructors\" that are worth knowing about:\n",
    "\n",
    "* `np.zeros` = an array full of zeros\n",
    "* `np.ones` = an array full of ones\n",
    "* `np.eye` = an identity matrix\n",
    "* `np.arange` = an integer range\n",
    "* `np.linspace` = a set of numbers linearly spaced in some range"
   ]
  },
  {
   "cell_type": "code",
   "execution_count": 12,
   "id": "d29ad45a",
   "metadata": {},
   "outputs": [
    {
     "name": "stdout",
     "output_type": "stream",
     "text": [
      "[[0. 0. 0.]\n",
      " [0. 0. 0.]\n",
      " [0. 0. 0.]] is a 3x3 matrix of all zeros\n",
      "\n",
      "[[1. 1. 1.]\n",
      " [1. 1. 1.]\n",
      " [1. 1. 1.]] is a 3x3 matrix of all ones\n",
      "\n",
      "[[1. 0. 0.]\n",
      " [0. 1. 0.]\n",
      " [0. 0. 1.]] is a 3x3 identity matrix\n",
      "\n",
      "[2 3 4 5] is the integer range from 2 to just before 6\n",
      "\n",
      "[0.  0.2 0.4 0.6 0.8 1. ] contains 6 steps, linearly spaced between 0 through 1 inclusive\n",
      "\n"
     ]
    },
    {
     "data": {
      "text/plain": [
       "3.0"
      ]
     },
     "execution_count": 12,
     "metadata": {},
     "output_type": "execute_result"
    }
   ],
   "source": [
    "Z = np.zeros((3,3))\n",
    "print(Z,\"is a 3x3 matrix of all zeros\\n\")\n",
    "\n",
    "O = np.ones((3,3))\n",
    "print(O,\"is a 3x3 matrix of all ones\\n\")\n",
    "\n",
    "I = np.eye(3)\n",
    "print(I,\"is a 3x3 identity matrix\\n\")\n",
    "\n",
    "R = np.arange(2,6)\n",
    "print(R,\"is the integer range from 2 to just before 6\\n\")\n",
    "\n",
    "L = np.linspace(0,1,6)\n",
    "print(L,\"contains 6 steps, linearly spaced between 0 through 1 inclusive\\n\")\n",
    "\n",
    "L @ np.ones(6)"
   ]
  },
  {
   "cell_type": "markdown",
   "id": "0452afae",
   "metadata": {},
   "source": [
    "<a id=\"section4\"></a>"
   ]
  },
  {
   "cell_type": "markdown",
   "id": "fca1e634",
   "metadata": {},
   "source": [
    "## 4.  matplotlib: figure, subplots, plot"
   ]
  },
  {
   "cell_type": "markdown",
   "id": "aeb3a1dd",
   "metadata": {},
   "source": [
    "The other useful module we'll learn about today is <a href=\"https://matplotlib.org/\">matplotlib</a>.  Matplotlib is a library for creating plots.  Test if you have it installed; if not, go to a terminal and type `pip install matplotlib`."
   ]
  },
  {
   "cell_type": "code",
   "execution_count": 13,
   "id": "56e91dfb",
   "metadata": {},
   "outputs": [
    {
     "ename": "ModuleNotFoundError",
     "evalue": "No module named 'matplotlib'",
     "output_type": "error",
     "traceback": [
      "\u001b[1;31m---------------------------------------------------------------------------\u001b[0m",
      "\u001b[1;31mModuleNotFoundError\u001b[0m                       Traceback (most recent call last)",
      "Cell \u001b[1;32mIn[13], line 1\u001b[0m\n\u001b[1;32m----> 1\u001b[0m \u001b[38;5;28;01mimport\u001b[39;00m \u001b[38;5;21;01mmatplotlib\u001b[39;00m\n",
      "\u001b[1;31mModuleNotFoundError\u001b[0m: No module named 'matplotlib'"
     ]
    }
   ],
   "source": [
    "import matplotlib"
   ]
  },
  {
   "cell_type": "markdown",
   "id": "0c138f16",
   "metadata": {},
   "source": [
    "Just like with numpy, there is a standard nickname for matplotlib.  We use `plt` as a nickname for <a href=\"https://matplotlib.org/stable/tutorials/introductory/pyplot.html\">matplotlib.pyplot</a>, which is the most useful part of matplotlib:"
   ]
  },
  {
   "cell_type": "code",
   "execution_count": null,
   "id": "0c864112",
   "metadata": {},
   "outputs": [],
   "source": [
    "import matplotlib.pyplot as plt"
   ]
  },
  {
   "cell_type": "markdown",
   "id": "20a5a05f",
   "metadata": {},
   "source": [
    "To use matplotlib, \n",
    "\n",
    "1. Create a figure, with specified `figsize`, using `plt.figure`\n",
    "1. Create subplots, with specified number of rows and columns\n",
    "1. Plot!"
   ]
  },
  {
   "cell_type": "code",
   "execution_count": null,
   "id": "ef501a8d",
   "metadata": {},
   "outputs": [],
   "source": [
    "f = plt.figure(figsize=(14,4))\n",
    "s = f.subplots(2,2)\n",
    "s[0,0].plot([1,2,3,4,5],[1,1,1,1,1])\n",
    "s[0,1].plot([1,2,3,4,5],[1,-1,1,-1,1])\n",
    "s[1,0].plot([1,2,3,4,5],[1,2,3,4,5])\n",
    "s[1,1].plot([1,2,3,4,5],[-1,-2,-3,-4,-5])"
   ]
  },
  {
   "cell_type": "markdown",
   "id": "b3ee435a",
   "metadata": {},
   "source": [
    "If you give the `plot` function \n",
    "* 2 arguments: it assumes that they are $(x,y)$ of one line\n",
    "* 4 arguments: it assumes that they are $(x,y,x,y)$ of two lines"
   ]
  },
  {
   "cell_type": "code",
   "execution_count": 14,
   "id": "bede41c1",
   "metadata": {},
   "outputs": [
    {
     "ename": "NameError",
     "evalue": "name 'plt' is not defined",
     "output_type": "error",
     "traceback": [
      "\u001b[1;31m---------------------------------------------------------------------------\u001b[0m",
      "\u001b[1;31mNameError\u001b[0m                                 Traceback (most recent call last)",
      "Cell \u001b[1;32mIn[14], line 1\u001b[0m\n\u001b[1;32m----> 1\u001b[0m f \u001b[38;5;241m=\u001b[39m \u001b[43mplt\u001b[49m\u001b[38;5;241m.\u001b[39mfigure(figsize\u001b[38;5;241m=\u001b[39m(\u001b[38;5;241m14\u001b[39m,\u001b[38;5;241m4\u001b[39m))\n\u001b[0;32m      2\u001b[0m s \u001b[38;5;241m=\u001b[39m f\u001b[38;5;241m.\u001b[39msubplots(\u001b[38;5;241m1\u001b[39m,\u001b[38;5;241m1\u001b[39m)\n\u001b[0;32m      3\u001b[0m s\u001b[38;5;241m.\u001b[39mplot([\u001b[38;5;241m0\u001b[39m,\u001b[38;5;241m1\u001b[39m,\u001b[38;5;241m2\u001b[39m,\u001b[38;5;241m3\u001b[39m,\u001b[38;5;241m4\u001b[39m,\u001b[38;5;241m5\u001b[39m,\u001b[38;5;241m6\u001b[39m],np\u001b[38;5;241m.\u001b[39mcos([\u001b[38;5;241m0\u001b[39m,\u001b[38;5;241m1\u001b[39m,\u001b[38;5;241m2\u001b[39m,\u001b[38;5;241m3\u001b[39m,\u001b[38;5;241m4\u001b[39m,\u001b[38;5;241m5\u001b[39m,\u001b[38;5;241m6\u001b[39m]),[\u001b[38;5;241m0\u001b[39m,\u001b[38;5;241m1\u001b[39m,\u001b[38;5;241m2\u001b[39m,\u001b[38;5;241m3\u001b[39m,\u001b[38;5;241m4\u001b[39m,\u001b[38;5;241m5\u001b[39m,\u001b[38;5;241m6\u001b[39m],np\u001b[38;5;241m.\u001b[39msin([\u001b[38;5;241m0\u001b[39m,\u001b[38;5;241m1\u001b[39m,\u001b[38;5;241m2\u001b[39m,\u001b[38;5;241m3\u001b[39m,\u001b[38;5;241m4\u001b[39m,\u001b[38;5;241m5\u001b[39m,\u001b[38;5;241m6\u001b[39m]))\n",
      "\u001b[1;31mNameError\u001b[0m: name 'plt' is not defined"
     ]
    }
   ],
   "source": [
    "f = plt.figure(figsize=(14,4))\n",
    "s = f.subplots(1,1)\n",
    "s.plot([0,1,2,3,4,5,6],np.cos([0,1,2,3,4,5,6]),[0,1,2,3,4,5,6],np.sin([0,1,2,3,4,5,6]))"
   ]
  },
  {
   "cell_type": "markdown",
   "id": "a3b1271e",
   "metadata": {},
   "source": [
    "You can use the functions `set_title`, `set_xlabel`, `set_ylabel`, and `legend` to set the title, set the X-label, set the Y-label, and add a legend.  See <a href=\"https://matplotlib.org/stable/api/axes_api.html\">Axes</a> to learn more about ways in which you can change the figure."
   ]
  },
  {
   "cell_type": "code",
   "execution_count": 15,
   "id": "d031942d",
   "metadata": {},
   "outputs": [
    {
     "ename": "NameError",
     "evalue": "name 'plt' is not defined",
     "output_type": "error",
     "traceback": [
      "\u001b[1;31m---------------------------------------------------------------------------\u001b[0m",
      "\u001b[1;31mNameError\u001b[0m                                 Traceback (most recent call last)",
      "Cell \u001b[1;32mIn[15], line 5\u001b[0m\n\u001b[0;32m      2\u001b[0m cos \u001b[38;5;241m=\u001b[39m np\u001b[38;5;241m.\u001b[39mcos(theta)\n\u001b[0;32m      3\u001b[0m sin \u001b[38;5;241m=\u001b[39m np\u001b[38;5;241m.\u001b[39msin(theta)\n\u001b[1;32m----> 5\u001b[0m f \u001b[38;5;241m=\u001b[39m \u001b[43mplt\u001b[49m\u001b[38;5;241m.\u001b[39mfigure(figsize\u001b[38;5;241m=\u001b[39m(\u001b[38;5;241m14\u001b[39m,\u001b[38;5;241m4\u001b[39m))\n\u001b[0;32m      6\u001b[0m s \u001b[38;5;241m=\u001b[39m f\u001b[38;5;241m.\u001b[39msubplots(\u001b[38;5;241m1\u001b[39m,\u001b[38;5;241m1\u001b[39m)\n\u001b[0;32m      7\u001b[0m s\u001b[38;5;241m.\u001b[39mplot(theta,cos,theta,sin)\n",
      "\u001b[1;31mNameError\u001b[0m: name 'plt' is not defined"
     ]
    }
   ],
   "source": [
    "theta = np.linspace(0,np.pi,100)\n",
    "cos = np.cos(theta)\n",
    "sin = np.sin(theta)\n",
    "\n",
    "f = plt.figure(figsize=(14,4))\n",
    "s = f.subplots(1,1)\n",
    "s.plot(theta,cos,theta,sin)\n",
    "s.set_title('Sine and Cosine',fontsize=24)\n",
    "s.set_xlabel('Theta (in radians)',fontsize=18)\n",
    "s.set_ylabel('sin(theta) and cos(theta)',fontsize=18)\n",
    "s.legend(['cosine','sine'],fontsize=18)"
   ]
  },
  {
   "cell_type": "markdown",
   "id": "3fe766f9",
   "metadata": {},
   "source": [
    "<a id=\"section5\"></a>"
   ]
  },
  {
   "cell_type": "markdown",
   "id": "eee84632",
   "metadata": {},
   "source": [
    "## 5. matplotlib: scatter plots and stem plots\n"
   ]
  },
  {
   "cell_type": "markdown",
   "id": "b04f7374",
   "metadata": {},
   "source": [
    "Matplotlib can create scatter plots and stem plots.\n",
    "* Scatter plots are created by giving `plot` a third argument, specifying the kind of <a href=\"https://matplotlib.org/stable/api/markers_api.html#module-matplotlib.markers\">markers</a> to use\n",
    "* Stem plots are created using the special command `stem`"
   ]
  },
  {
   "cell_type": "code",
   "execution_count": 16,
   "id": "d765f00a",
   "metadata": {},
   "outputs": [
    {
     "ename": "NameError",
     "evalue": "name 'plt' is not defined",
     "output_type": "error",
     "traceback": [
      "\u001b[1;31m---------------------------------------------------------------------------\u001b[0m",
      "\u001b[1;31mNameError\u001b[0m                                 Traceback (most recent call last)",
      "Cell \u001b[1;32mIn[16], line 5\u001b[0m\n\u001b[0;32m      2\u001b[0m cos \u001b[38;5;241m=\u001b[39m np\u001b[38;5;241m.\u001b[39mcos(theta)\n\u001b[0;32m      3\u001b[0m sin \u001b[38;5;241m=\u001b[39m np\u001b[38;5;241m.\u001b[39msin(theta)\n\u001b[1;32m----> 5\u001b[0m f \u001b[38;5;241m=\u001b[39m \u001b[43mplt\u001b[49m\u001b[38;5;241m.\u001b[39mfigure(figsize\u001b[38;5;241m=\u001b[39m(\u001b[38;5;241m14\u001b[39m,\u001b[38;5;241m4\u001b[39m))\n\u001b[0;32m      6\u001b[0m s \u001b[38;5;241m=\u001b[39m f\u001b[38;5;241m.\u001b[39msubplots(\u001b[38;5;241m1\u001b[39m,\u001b[38;5;241m1\u001b[39m)\n\u001b[0;32m      7\u001b[0m s\u001b[38;5;241m.\u001b[39mplot(theta,cos,\u001b[38;5;124m'\u001b[39m\u001b[38;5;124mbx\u001b[39m\u001b[38;5;124m'\u001b[39m,theta,sin,\u001b[38;5;124m'\u001b[39m\u001b[38;5;124mro\u001b[39m\u001b[38;5;124m'\u001b[39m)\n",
      "\u001b[1;31mNameError\u001b[0m: name 'plt' is not defined"
     ]
    }
   ],
   "source": [
    "theta = np.linspace(0,np.pi,20)\n",
    "cos = np.cos(theta)\n",
    "sin = np.sin(theta)\n",
    "\n",
    "f = plt.figure(figsize=(14,4))\n",
    "s = f.subplots(1,1)\n",
    "s.plot(theta,cos,'bx',theta,sin,'ro')\n",
    "s.set_title('Sine and Cosine: Scatter Plot',fontsize=24)\n",
    "s.set_xlabel('Theta (in radians)',fontsize=18)\n",
    "s.set_ylabel('sin(theta) and cos(theta)',fontsize=18)\n",
    "s.legend(['cosine','sine'],fontsize=18)"
   ]
  },
  {
   "cell_type": "code",
   "execution_count": 17,
   "id": "f8a9c79f",
   "metadata": {},
   "outputs": [
    {
     "ename": "NameError",
     "evalue": "name 'plt' is not defined",
     "output_type": "error",
     "traceback": [
      "\u001b[1;31m---------------------------------------------------------------------------\u001b[0m",
      "\u001b[1;31mNameError\u001b[0m                                 Traceback (most recent call last)",
      "Cell \u001b[1;32mIn[17], line 5\u001b[0m\n\u001b[0;32m      2\u001b[0m cos \u001b[38;5;241m=\u001b[39m np\u001b[38;5;241m.\u001b[39mcos(theta)\n\u001b[0;32m      3\u001b[0m sin \u001b[38;5;241m=\u001b[39m np\u001b[38;5;241m.\u001b[39msin(theta)\n\u001b[1;32m----> 5\u001b[0m f \u001b[38;5;241m=\u001b[39m \u001b[43mplt\u001b[49m\u001b[38;5;241m.\u001b[39mfigure(figsize\u001b[38;5;241m=\u001b[39m(\u001b[38;5;241m14\u001b[39m,\u001b[38;5;241m4\u001b[39m))\n\u001b[0;32m      6\u001b[0m s \u001b[38;5;241m=\u001b[39m f\u001b[38;5;241m.\u001b[39msubplots(\u001b[38;5;241m1\u001b[39m,\u001b[38;5;241m1\u001b[39m)\n\u001b[0;32m      7\u001b[0m s\u001b[38;5;241m.\u001b[39mstem(theta,cos,\u001b[38;5;124m'\u001b[39m\u001b[38;5;124mr\u001b[39m\u001b[38;5;124m'\u001b[39m)\n",
      "\u001b[1;31mNameError\u001b[0m: name 'plt' is not defined"
     ]
    }
   ],
   "source": [
    "theta = np.linspace(0,np.pi,20)\n",
    "cos = np.cos(theta)\n",
    "sin = np.sin(theta)\n",
    "\n",
    "f = plt.figure(figsize=(14,4))\n",
    "s = f.subplots(1,1)\n",
    "s.stem(theta,cos,'r')\n",
    "s.stem(theta,sin,'b')\n",
    "s.set_title('Sine and Cosine: Stem Plot',fontsize=24)\n",
    "s.set_xlabel('Theta (in radians)',fontsize=18)\n",
    "s.set_ylabel('sin(theta) and cos(theta)',fontsize=18)\n",
    "s.legend(['cosine','sine'],fontsize=18)"
   ]
  },
  {
   "cell_type": "markdown",
   "id": "8ad9ad00",
   "metadata": {},
   "source": [
    "<a id=\"homework\"></a>"
   ]
  },
  {
   "cell_type": "markdown",
   "id": "4e6b32d4",
   "metadata": {},
   "source": [
    "## Homework 5"
   ]
  },
  {
   "cell_type": "markdown",
   "id": "7a9eeaa5",
   "metadata": {},
   "source": [
    "Homework will be graded on Github.com.\n",
    "\n",
    "In this directory, there is a file called `homework5.py`.  It contains 3 functions.  Complete those functions, finish the grading block at the end of this notebook, then commit and push your changed notebook to github."
   ]
  },
  {
   "cell_type": "markdown",
   "id": "cfdd19d7",
   "metadata": {},
   "source": [
    "### Homework Problem 5.1"
   ]
  },
  {
   "cell_type": "code",
   "execution_count": 18,
   "id": "c1361dec",
   "metadata": {},
   "outputs": [
    {
     "ename": "ModuleNotFoundError",
     "evalue": "No module named 'matplotlib'",
     "output_type": "error",
     "traceback": [
      "\u001b[1;31m---------------------------------------------------------------------------\u001b[0m",
      "\u001b[1;31mModuleNotFoundError\u001b[0m                       Traceback (most recent call last)",
      "Cell \u001b[1;32mIn[18], line 1\u001b[0m\n\u001b[1;32m----> 1\u001b[0m \u001b[38;5;28;01mimport\u001b[39;00m \u001b[38;5;21;01mhomework5\u001b[39;00m\u001b[38;5;241m,\u001b[39m \u001b[38;5;21;01mimportlib\u001b[39;00m\n\u001b[0;32m      2\u001b[0m importlib\u001b[38;5;241m.\u001b[39mreload(homework5)\n\u001b[0;32m      3\u001b[0m help(homework5\u001b[38;5;241m.\u001b[39mcenter_of_gravity)\n",
      "File \u001b[1;32m~\\Documents\\GitHub\\intro_speech_understanding\\2024_spring\\lec05\\homework5.py:2\u001b[0m\n\u001b[0;32m      1\u001b[0m \u001b[38;5;28;01mimport\u001b[39;00m \u001b[38;5;21;01mnumpy\u001b[39;00m \u001b[38;5;28;01mas\u001b[39;00m \u001b[38;5;21;01mnp\u001b[39;00m\n\u001b[1;32m----> 2\u001b[0m \u001b[38;5;28;01mimport\u001b[39;00m \u001b[38;5;21;01mmatplotlib\u001b[39;00m\u001b[38;5;21;01m.\u001b[39;00m\u001b[38;5;21;01mpyplot\u001b[39;00m \u001b[38;5;28;01mas\u001b[39;00m \u001b[38;5;21;01mplt\u001b[39;00m\n\u001b[0;32m      4\u001b[0m \u001b[38;5;28;01mdef\u001b[39;00m \u001b[38;5;21mcenter_of_gravity\u001b[39m(x):\n\u001b[0;32m      5\u001b[0m \u001b[38;5;250m    \u001b[39m\u001b[38;5;124;03m'''\u001b[39;00m\n\u001b[0;32m      6\u001b[0m \u001b[38;5;124;03m    Find the center of gravity of a vector, x.\u001b[39;00m\n\u001b[0;32m      7\u001b[0m \u001b[38;5;124;03m    If x=[x0,x1,...,xn], then you should return\u001b[39;00m\n\u001b[1;32m   (...)\u001b[0m\n\u001b[0;32m     17\u001b[0m \u001b[38;5;124;03m    c (scalar): x's center of gravity\u001b[39;00m\n\u001b[0;32m     18\u001b[0m \u001b[38;5;124;03m    '''\u001b[39;00m\n",
      "\u001b[1;31mModuleNotFoundError\u001b[0m: No module named 'matplotlib'"
     ]
    }
   ],
   "source": [
    "import homework5, importlib\n",
    "importlib.reload(homework5)\n",
    "help(homework5.center_of_gravity)"
   ]
  },
  {
   "cell_type": "markdown",
   "id": "0da0f3b8",
   "metadata": {},
   "source": [
    "For example, the vector $x=[1,2,3,2,1]$ is centered around its third element ($x[2]$), so its center of gravity should be \n",
    "\n",
    "`c =  2.0`:"
   ]
  },
  {
   "cell_type": "code",
   "execution_count": 19,
   "id": "1d13dc5f",
   "metadata": {},
   "outputs": [
    {
     "ename": "ModuleNotFoundError",
     "evalue": "No module named 'matplotlib'",
     "output_type": "error",
     "traceback": [
      "\u001b[1;31m---------------------------------------------------------------------------\u001b[0m",
      "\u001b[1;31mModuleNotFoundError\u001b[0m                       Traceback (most recent call last)",
      "Cell \u001b[1;32mIn[19], line 1\u001b[0m\n\u001b[1;32m----> 1\u001b[0m \u001b[38;5;28;01mimport\u001b[39;00m \u001b[38;5;21;01mhomework5\u001b[39;00m\u001b[38;5;241m,\u001b[39m \u001b[38;5;21;01mimportlib\u001b[39;00m\n\u001b[0;32m      2\u001b[0m importlib\u001b[38;5;241m.\u001b[39mreload(homework5)\n\u001b[0;32m      3\u001b[0m \u001b[38;5;28mprint\u001b[39m(\u001b[38;5;124m'\u001b[39m\u001b[38;5;124mc = \u001b[39m\u001b[38;5;124m'\u001b[39m,homework5\u001b[38;5;241m.\u001b[39mcenter_of_gravity([\u001b[38;5;241m1\u001b[39m,\u001b[38;5;241m2\u001b[39m,\u001b[38;5;241m3\u001b[39m,\u001b[38;5;241m2\u001b[39m,\u001b[38;5;241m1\u001b[39m]))\n",
      "File \u001b[1;32m~\\Documents\\GitHub\\intro_speech_understanding\\2024_spring\\lec05\\homework5.py:2\u001b[0m\n\u001b[0;32m      1\u001b[0m \u001b[38;5;28;01mimport\u001b[39;00m \u001b[38;5;21;01mnumpy\u001b[39;00m \u001b[38;5;28;01mas\u001b[39;00m \u001b[38;5;21;01mnp\u001b[39;00m\n\u001b[1;32m----> 2\u001b[0m \u001b[38;5;28;01mimport\u001b[39;00m \u001b[38;5;21;01mmatplotlib\u001b[39;00m\u001b[38;5;21;01m.\u001b[39;00m\u001b[38;5;21;01mpyplot\u001b[39;00m \u001b[38;5;28;01mas\u001b[39;00m \u001b[38;5;21;01mplt\u001b[39;00m\n\u001b[0;32m      4\u001b[0m \u001b[38;5;28;01mdef\u001b[39;00m \u001b[38;5;21mcenter_of_gravity\u001b[39m(x):\n\u001b[0;32m      5\u001b[0m \u001b[38;5;250m    \u001b[39m\u001b[38;5;124;03m'''\u001b[39;00m\n\u001b[0;32m      6\u001b[0m \u001b[38;5;124;03m    Find the center of gravity of a vector, x.\u001b[39;00m\n\u001b[0;32m      7\u001b[0m \u001b[38;5;124;03m    If x=[x0,x1,...,xn], then you should return\u001b[39;00m\n\u001b[1;32m   (...)\u001b[0m\n\u001b[0;32m     17\u001b[0m \u001b[38;5;124;03m    c (scalar): x's center of gravity\u001b[39;00m\n\u001b[0;32m     18\u001b[0m \u001b[38;5;124;03m    '''\u001b[39;00m\n",
      "\u001b[1;31mModuleNotFoundError\u001b[0m: No module named 'matplotlib'"
     ]
    }
   ],
   "source": [
    "import homework5, importlib\n",
    "importlib.reload(homework5)\n",
    "print('c = ',homework5.center_of_gravity([1,2,3,2,1]))"
   ]
  },
  {
   "cell_type": "markdown",
   "id": "2bc43f17",
   "metadata": {},
   "source": [
    "### Homework Problem 5.2"
   ]
  },
  {
   "cell_type": "code",
   "execution_count": 20,
   "id": "6ce3a132",
   "metadata": {},
   "outputs": [
    {
     "ename": "NameError",
     "evalue": "name 'importlib' is not defined",
     "output_type": "error",
     "traceback": [
      "\u001b[1;31m---------------------------------------------------------------------------\u001b[0m",
      "\u001b[1;31mNameError\u001b[0m                                 Traceback (most recent call last)",
      "Cell \u001b[1;32mIn[20], line 1\u001b[0m\n\u001b[1;32m----> 1\u001b[0m \u001b[43mimportlib\u001b[49m\u001b[38;5;241m.\u001b[39mreload(homework5)\n\u001b[0;32m      2\u001b[0m help(homework5\u001b[38;5;241m.\u001b[39mmatched_identity)\n",
      "\u001b[1;31mNameError\u001b[0m: name 'importlib' is not defined"
     ]
    }
   ],
   "source": [
    "importlib.reload(homework5)\n",
    "help(homework5.matched_identity)"
   ]
  },
  {
   "cell_type": "markdown",
   "id": "d8a2ce2e",
   "metadata": {},
   "source": [
    "For example, since $x=[1,2,3,2,1]$ has 5 elements, $I$ should be a $5\\times 5$ identity matrix,\n",
    "\n",
    "`I = `\n",
    "`[[1. 0. 0. 0. 0.]`\n",
    "` [0. 1. 0. 0. 0.]`\n",
    "` [0. 0. 1. 0. 0.]`\n",
    "` [0. 0. 0. 1. 0.]`\n",
    "` [0. 0. 0. 0. 1.]]`"
   ]
  },
  {
   "cell_type": "code",
   "execution_count": 21,
   "id": "dbd444dd",
   "metadata": {},
   "outputs": [
    {
     "ename": "ModuleNotFoundError",
     "evalue": "No module named 'matplotlib'",
     "output_type": "error",
     "traceback": [
      "\u001b[1;31m---------------------------------------------------------------------------\u001b[0m",
      "\u001b[1;31mModuleNotFoundError\u001b[0m                       Traceback (most recent call last)",
      "Cell \u001b[1;32mIn[21], line 1\u001b[0m\n\u001b[1;32m----> 1\u001b[0m \u001b[38;5;28;01mimport\u001b[39;00m \u001b[38;5;21;01mhomework5\u001b[39;00m\u001b[38;5;241m,\u001b[39m \u001b[38;5;21;01mimportlib\u001b[39;00m\n\u001b[0;32m      2\u001b[0m importlib\u001b[38;5;241m.\u001b[39mreload(homework5)\n\u001b[0;32m      4\u001b[0m \u001b[38;5;28mprint\u001b[39m(\u001b[38;5;124m'\u001b[39m\u001b[38;5;124mI = \u001b[39m\u001b[38;5;130;01m\\n\u001b[39;00m\u001b[38;5;124m'\u001b[39m,homework5\u001b[38;5;241m.\u001b[39mmatched_identity([\u001b[38;5;241m1\u001b[39m,\u001b[38;5;241m2\u001b[39m,\u001b[38;5;241m3\u001b[39m,\u001b[38;5;241m2\u001b[39m,\u001b[38;5;241m1\u001b[39m]))\n",
      "File \u001b[1;32m~\\Documents\\GitHub\\intro_speech_understanding\\2024_spring\\lec05\\homework5.py:2\u001b[0m\n\u001b[0;32m      1\u001b[0m \u001b[38;5;28;01mimport\u001b[39;00m \u001b[38;5;21;01mnumpy\u001b[39;00m \u001b[38;5;28;01mas\u001b[39;00m \u001b[38;5;21;01mnp\u001b[39;00m\n\u001b[1;32m----> 2\u001b[0m \u001b[38;5;28;01mimport\u001b[39;00m \u001b[38;5;21;01mmatplotlib\u001b[39;00m\u001b[38;5;21;01m.\u001b[39;00m\u001b[38;5;21;01mpyplot\u001b[39;00m \u001b[38;5;28;01mas\u001b[39;00m \u001b[38;5;21;01mplt\u001b[39;00m\n\u001b[0;32m      4\u001b[0m \u001b[38;5;28;01mdef\u001b[39;00m \u001b[38;5;21mcenter_of_gravity\u001b[39m(x):\n\u001b[0;32m      5\u001b[0m \u001b[38;5;250m    \u001b[39m\u001b[38;5;124;03m'''\u001b[39;00m\n\u001b[0;32m      6\u001b[0m \u001b[38;5;124;03m    Find the center of gravity of a vector, x.\u001b[39;00m\n\u001b[0;32m      7\u001b[0m \u001b[38;5;124;03m    If x=[x0,x1,...,xn], then you should return\u001b[39;00m\n\u001b[1;32m   (...)\u001b[0m\n\u001b[0;32m     17\u001b[0m \u001b[38;5;124;03m    c (scalar): x's center of gravity\u001b[39;00m\n\u001b[0;32m     18\u001b[0m \u001b[38;5;124;03m    '''\u001b[39;00m\n",
      "\u001b[1;31mModuleNotFoundError\u001b[0m: No module named 'matplotlib'"
     ]
    }
   ],
   "source": [
    "import homework5, importlib\n",
    "importlib.reload(homework5)\n",
    "\n",
    "print('I = \\n',homework5.matched_identity([1,2,3,2,1]))\n"
   ]
  },
  {
   "cell_type": "markdown",
   "id": "ed43922e",
   "metadata": {},
   "source": [
    "### Homework Problem 5.3"
   ]
  },
  {
   "cell_type": "code",
   "execution_count": 22,
   "id": "a8456bf1",
   "metadata": {},
   "outputs": [
    {
     "ename": "NameError",
     "evalue": "name 'importlib' is not defined",
     "output_type": "error",
     "traceback": [
      "\u001b[1;31m---------------------------------------------------------------------------\u001b[0m",
      "\u001b[1;31mNameError\u001b[0m                                 Traceback (most recent call last)",
      "Cell \u001b[1;32mIn[22], line 1\u001b[0m\n\u001b[1;32m----> 1\u001b[0m \u001b[43mimportlib\u001b[49m\u001b[38;5;241m.\u001b[39mreload(homework5)\n\u001b[0;32m      2\u001b[0m help(homework5\u001b[38;5;241m.\u001b[39msine_and_cosine)\n",
      "\u001b[1;31mNameError\u001b[0m: name 'importlib' is not defined"
     ]
    }
   ],
   "source": [
    "importlib.reload(homework5)\n",
    "help(homework5.sine_and_cosine)"
   ]
  },
  {
   "cell_type": "markdown",
   "id": "197aa17d",
   "metadata": {},
   "source": [
    "For example, the following block should produce the same plot as block 73 above:"
   ]
  },
  {
   "cell_type": "code",
   "execution_count": 23,
   "id": "00962b42",
   "metadata": {},
   "outputs": [
    {
     "ename": "ModuleNotFoundError",
     "evalue": "No module named 'matplotlib'",
     "output_type": "error",
     "traceback": [
      "\u001b[1;31m---------------------------------------------------------------------------\u001b[0m",
      "\u001b[1;31mModuleNotFoundError\u001b[0m                       Traceback (most recent call last)",
      "Cell \u001b[1;32mIn[23], line 1\u001b[0m\n\u001b[1;32m----> 1\u001b[0m \u001b[38;5;28;01mimport\u001b[39;00m \u001b[38;5;21;01mhomework5\u001b[39;00m\u001b[38;5;241m,\u001b[39m \u001b[38;5;21;01mimportlib\u001b[39;00m\n\u001b[0;32m      2\u001b[0m importlib\u001b[38;5;241m.\u001b[39mreload(homework5)\n\u001b[0;32m      4\u001b[0m (theta, cos, sin) \u001b[38;5;241m=\u001b[39m homework5\u001b[38;5;241m.\u001b[39msine_and_cosine(\u001b[38;5;241m0\u001b[39m,np\u001b[38;5;241m.\u001b[39mpi,\u001b[38;5;241m20\u001b[39m)\n",
      "File \u001b[1;32m~\\Documents\\GitHub\\intro_speech_understanding\\2024_spring\\lec05\\homework5.py:2\u001b[0m\n\u001b[0;32m      1\u001b[0m \u001b[38;5;28;01mimport\u001b[39;00m \u001b[38;5;21;01mnumpy\u001b[39;00m \u001b[38;5;28;01mas\u001b[39;00m \u001b[38;5;21;01mnp\u001b[39;00m\n\u001b[1;32m----> 2\u001b[0m \u001b[38;5;28;01mimport\u001b[39;00m \u001b[38;5;21;01mmatplotlib\u001b[39;00m\u001b[38;5;21;01m.\u001b[39;00m\u001b[38;5;21;01mpyplot\u001b[39;00m \u001b[38;5;28;01mas\u001b[39;00m \u001b[38;5;21;01mplt\u001b[39;00m\n\u001b[0;32m      4\u001b[0m \u001b[38;5;28;01mdef\u001b[39;00m \u001b[38;5;21mcenter_of_gravity\u001b[39m(x):\n\u001b[0;32m      5\u001b[0m \u001b[38;5;250m    \u001b[39m\u001b[38;5;124;03m'''\u001b[39;00m\n\u001b[0;32m      6\u001b[0m \u001b[38;5;124;03m    Find the center of gravity of a vector, x.\u001b[39;00m\n\u001b[0;32m      7\u001b[0m \u001b[38;5;124;03m    If x=[x0,x1,...,xn], then you should return\u001b[39;00m\n\u001b[1;32m   (...)\u001b[0m\n\u001b[0;32m     17\u001b[0m \u001b[38;5;124;03m    c (scalar): x's center of gravity\u001b[39;00m\n\u001b[0;32m     18\u001b[0m \u001b[38;5;124;03m    '''\u001b[39;00m\n",
      "\u001b[1;31mModuleNotFoundError\u001b[0m: No module named 'matplotlib'"
     ]
    }
   ],
   "source": [
    "import homework5, importlib\n",
    "importlib.reload(homework5)\n",
    "\n",
    "(theta, cos, sin) = homework5.sine_and_cosine(0,np.pi,20)\n",
    "\n",
    "f = plt.figure(figsize=(14,4))\n",
    "s = f.subplots(1,1)\n",
    "s.stem(theta,cos,'r')\n",
    "s.stem(theta,sin,'b')\n",
    "s.set_title('Sine and Cosine: Stem Plot',fontsize=24)\n",
    "s.set_xlabel('Theta (in radians)',fontsize=18)\n",
    "s.set_ylabel('sin(theta) and cos(theta)',fontsize=18)\n",
    "s.legend(['cosine','sine'],fontsize=18)"
   ]
  },
  {
   "cell_type": "markdown",
   "id": "86b6ae38",
   "metadata": {},
   "source": [
    "### Receiving your grade\n",
    "\n",
    "In order to receive a grade for your homework, you need to:\n",
    "\n",
    "1. Run the following code block on your machine.  The result may list some errors, and then in the very last line, it will show a score.  That score (between 0% and 100%) is the grade you have earned so far.  If you want to earn a higher grade, please continue editing `homework3.py`, and then run this code block again.\n",
    "1. When you are happy with your score (e.g., when it reaches 100%), choose `File` $\\Rightarrow$ `Save and Checkpoint`.  Then use `GitHub Desktop` to commit and push your changes.\n",
    "1. Make sure that the 100% shows on your github repo on github.com.  If it doesn't, you will not receive credit."
   ]
  },
  {
   "cell_type": "code",
   "execution_count": 24,
   "id": "9ab257c6",
   "metadata": {},
   "outputs": [
    {
     "ename": "ModuleNotFoundError",
     "evalue": "No module named 'matplotlib'",
     "output_type": "error",
     "traceback": [
      "\u001b[1;31m---------------------------------------------------------------------------\u001b[0m",
      "\u001b[1;31mModuleNotFoundError\u001b[0m                       Traceback (most recent call last)",
      "Cell \u001b[1;32mIn[24], line 1\u001b[0m\n\u001b[1;32m----> 1\u001b[0m \u001b[38;5;28;01mimport\u001b[39;00m \u001b[38;5;21;01mimportlib\u001b[39;00m\u001b[38;5;241m,\u001b[39m \u001b[38;5;21;01mgrade\u001b[39;00m\n\u001b[0;32m      2\u001b[0m importlib\u001b[38;5;241m.\u001b[39mreload(grade)\n",
      "File \u001b[1;32m~\\Documents\\GitHub\\intro_speech_understanding\\2024_spring\\lec05\\grade.py:1\u001b[0m\n\u001b[1;32m----> 1\u001b[0m \u001b[38;5;28;01mimport\u001b[39;00m \u001b[38;5;21;01munittest\u001b[39;00m\u001b[38;5;241m,\u001b[39m \u001b[38;5;21;01mhomework5\u001b[39;00m\n\u001b[0;32m      2\u001b[0m \u001b[38;5;28;01mimport\u001b[39;00m \u001b[38;5;21;01mnumpy\u001b[39;00m \u001b[38;5;28;01mas\u001b[39;00m \u001b[38;5;21;01mnp\u001b[39;00m\n\u001b[0;32m      4\u001b[0m \u001b[38;5;66;03m# TestSequence\u001b[39;00m\n",
      "File \u001b[1;32m~\\Documents\\GitHub\\intro_speech_understanding\\2024_spring\\lec05\\homework5.py:2\u001b[0m\n\u001b[0;32m      1\u001b[0m \u001b[38;5;28;01mimport\u001b[39;00m \u001b[38;5;21;01mnumpy\u001b[39;00m \u001b[38;5;28;01mas\u001b[39;00m \u001b[38;5;21;01mnp\u001b[39;00m\n\u001b[1;32m----> 2\u001b[0m \u001b[38;5;28;01mimport\u001b[39;00m \u001b[38;5;21;01mmatplotlib\u001b[39;00m\u001b[38;5;21;01m.\u001b[39;00m\u001b[38;5;21;01mpyplot\u001b[39;00m \u001b[38;5;28;01mas\u001b[39;00m \u001b[38;5;21;01mplt\u001b[39;00m\n\u001b[0;32m      4\u001b[0m \u001b[38;5;28;01mdef\u001b[39;00m \u001b[38;5;21mcenter_of_gravity\u001b[39m(x):\n\u001b[0;32m      5\u001b[0m \u001b[38;5;250m    \u001b[39m\u001b[38;5;124;03m'''\u001b[39;00m\n\u001b[0;32m      6\u001b[0m \u001b[38;5;124;03m    Find the center of gravity of a vector, x.\u001b[39;00m\n\u001b[0;32m      7\u001b[0m \u001b[38;5;124;03m    If x=[x0,x1,...,xn], then you should return\u001b[39;00m\n\u001b[1;32m   (...)\u001b[0m\n\u001b[0;32m     17\u001b[0m \u001b[38;5;124;03m    c (scalar): x's center of gravity\u001b[39;00m\n\u001b[0;32m     18\u001b[0m \u001b[38;5;124;03m    '''\u001b[39;00m\n",
      "\u001b[1;31mModuleNotFoundError\u001b[0m: No module named 'matplotlib'"
     ]
    }
   ],
   "source": [
    "import importlib, grade\n",
    "importlib.reload(grade)"
   ]
  },
  {
   "cell_type": "code",
   "execution_count": null,
   "id": "0ec0c085",
   "metadata": {},
   "outputs": [],
   "source": []
  }
 ],
 "metadata": {
  "kernelspec": {
   "display_name": "Python 3 (ipykernel)",
   "language": "python",
   "name": "python3"
  },
  "language_info": {
   "codemirror_mode": {
    "name": "ipython",
    "version": 3
   },
   "file_extension": ".py",
   "mimetype": "text/x-python",
   "name": "python",
   "nbconvert_exporter": "python",
   "pygments_lexer": "ipython3",
   "version": "3.10.14"
  }
 },
 "nbformat": 4,
 "nbformat_minor": 5
}
